{
 "cells": [
  {
   "cell_type": "markdown",
   "id": "db3b877b",
   "metadata": {},
   "source": [
    "## Data Preprocessing"
   ]
  },
  {
   "cell_type": "code",
   "execution_count": 3,
   "id": "488d71b5",
   "metadata": {},
   "outputs": [
    {
     "name": "stderr",
     "output_type": "stream",
     "text": [
      "C:\\Users\\benol\\AppData\\Local\\Temp\\ipykernel_35040\\542096908.py:6: DtypeWarning: Columns (17,18,19,291) have mixed types. Specify dtype option on import or set low_memory=False.\n",
      "  df = pd.read_csv(filepath)\n"
     ]
    }
   ],
   "source": [
    "import pandas as pd\n",
    "import numpy as np\n",
    "\n",
    "filepath = r'..\\Database\\TBIMSPublic.2024-11-01\\Data\\Form1.csv'\n",
    "\n",
    "df = pd.read_csv(filepath)"
   ]
  },
  {
   "cell_type": "code",
   "execution_count": null,
   "id": "31c1492b",
   "metadata": {},
   "outputs": [
    {
     "name": "stdout",
     "output_type": "stream",
     "text": [
      "<class 'pandas.core.frame.DataFrame'>\n",
      "RangeIndex: 19560 entries, 0 to 19559\n",
      "Columns: 371 entries, Mod1Id to YoungestAgeTBI\n",
      "dtypes: float64(317), int64(50), object(4)\n",
      "memory usage: 55.4+ MB\n"
     ]
    },
    {
     "data": {
      "text/plain": [
       "Hypertension\n",
       "66    19560\n",
       "Name: count, dtype: int64"
      ]
     },
     "execution_count": 25,
     "metadata": {},
     "output_type": "execute_result"
    }
   ],
   "source": [
    "df.info()\n",
    "#print(df.notnull().sum())\n",
    "#df.describe(include=\"all\")"
   ]
  },
  {
   "cell_type": "code",
   "execution_count": 31,
   "id": "6349ae2f",
   "metadata": {},
   "outputs": [
    {
     "name": "stdout",
     "output_type": "stream",
     "text": [
      "['DeathCause1', 'DeathCause2', 'DeathECode', 'FIMLocoModeD']\n"
     ]
    },
    {
     "data": {
      "text/plain": [
       "FIMLocoModeD\n",
       "w     14323\n",
       "c      3432\n",
       "66      273\n",
       "99      178\n",
       "Name: count, dtype: int64"
      ]
     },
     "execution_count": 31,
     "metadata": {},
     "output_type": "execute_result"
    }
   ],
   "source": [
    "# import missingno as msno\n",
    "\n",
    "# msno.matrix(df)\n",
    "\n",
    "mixed_type_col = [17,18,19,291]\n",
    "\n",
    "mixed_type_col_names =[df.columns[column] for column in mixed_type_col]\n",
    "\n",
    "print(mixed_type_col_names)\n",
    "\n",
    "# for col in mixed_type_col_names:\n",
    "#     print(df[col].dtypes)\n",
    "\n",
    "df['FIMLocoModeD'].value_counts()"
   ]
  },
  {
   "cell_type": "code",
   "execution_count": 26,
   "id": "99790168",
   "metadata": {},
   "outputs": [
    {
     "data": {
      "text/html": [
       "<div>\n",
       "<style scoped>\n",
       "    .dataframe tbody tr th:only-of-type {\n",
       "        vertical-align: middle;\n",
       "    }\n",
       "\n",
       "    .dataframe tbody tr th {\n",
       "        vertical-align: top;\n",
       "    }\n",
       "\n",
       "    .dataframe thead th {\n",
       "        text-align: right;\n",
       "    }\n",
       "</style>\n",
       "<table border=\"1\" class=\"dataframe\">\n",
       "  <thead>\n",
       "    <tr style=\"text-align: right;\">\n",
       "      <th></th>\n",
       "      <th>VariableId</th>\n",
       "      <th>Name</th>\n",
       "      <th>Question</th>\n",
       "      <th>MaxRealValueLength</th>\n",
       "    </tr>\n",
       "  </thead>\n",
       "  <tbody>\n",
       "    <tr>\n",
       "      <th>17</th>\n",
       "      <td>537.0</td>\n",
       "      <td>DeathCause1</td>\n",
       "      <td>Primary cause of death ICD diagnosis code:</td>\n",
       "      <td>6.0</td>\n",
       "    </tr>\n",
       "    <tr>\n",
       "      <th>18</th>\n",
       "      <td>538.0</td>\n",
       "      <td>DeathCause2</td>\n",
       "      <td>Secondary cause of death ICD diagnosis code:</td>\n",
       "      <td>4.0</td>\n",
       "    </tr>\n",
       "    <tr>\n",
       "      <th>19</th>\n",
       "      <td>539.0</td>\n",
       "      <td>DeathECode</td>\n",
       "      <td>External cause of death ICD code:</td>\n",
       "      <td>4.0</td>\n",
       "    </tr>\n",
       "    <tr>\n",
       "      <th>291</th>\n",
       "      <td>671.0</td>\n",
       "      <td>FIMLocoModeD</td>\n",
       "      <td>Walking/Wheelchair mode:</td>\n",
       "      <td>1.0</td>\n",
       "    </tr>\n",
       "  </tbody>\n",
       "</table>\n",
       "</div>"
      ],
      "text/plain": [
       "     VariableId          Name                                      Question  \\\n",
       "17        537.0   DeathCause1    Primary cause of death ICD diagnosis code:   \n",
       "18        538.0   DeathCause2  Secondary cause of death ICD diagnosis code:   \n",
       "19        539.0    DeathECode             External cause of death ICD code:   \n",
       "291       671.0  FIMLocoModeD                      Walking/Wheelchair mode:   \n",
       "\n",
       "     MaxRealValueLength  \n",
       "17                  6.0  \n",
       "18                  4.0  \n",
       "19                  4.0  \n",
       "291                 1.0  "
      ]
     },
     "execution_count": 26,
     "metadata": {},
     "output_type": "execute_result"
    }
   ],
   "source": [
    "form_vars_filepath = r'..\\Database\\TBIMSPublic.2024-11-01\\Code\\Form1_Variables.csv'\n",
    "form_vars_df = pd.read_csv(form_vars_filepath)\n",
    "\n",
    "form_vars_df[form_vars_df['Name'].isin(mixed_type_col_names)]"
   ]
  },
  {
   "cell_type": "code",
   "execution_count": 12,
   "id": "27c171e5",
   "metadata": {},
   "outputs": [
    {
     "data": {
      "text/html": [
       "<div>\n",
       "<style scoped>\n",
       "    .dataframe tbody tr th:only-of-type {\n",
       "        vertical-align: middle;\n",
       "    }\n",
       "\n",
       "    .dataframe tbody tr th {\n",
       "        vertical-align: top;\n",
       "    }\n",
       "\n",
       "    .dataframe thead th {\n",
       "        text-align: right;\n",
       "    }\n",
       "</style>\n",
       "<table border=\"1\" class=\"dataframe\">\n",
       "  <thead>\n",
       "    <tr style=\"text-align: right;\">\n",
       "      <th></th>\n",
       "      <th>VariableId</th>\n",
       "      <th>Name</th>\n",
       "      <th>Question</th>\n",
       "      <th>MaxRealValueLength</th>\n",
       "    </tr>\n",
       "  </thead>\n",
       "  <tbody>\n",
       "    <tr>\n",
       "      <th>17</th>\n",
       "      <td>537.0</td>\n",
       "      <td>DeathCause1</td>\n",
       "      <td>Primary cause of death ICD diagnosis code:</td>\n",
       "      <td>6.0</td>\n",
       "    </tr>\n",
       "    <tr>\n",
       "      <th>18</th>\n",
       "      <td>538.0</td>\n",
       "      <td>DeathCause2</td>\n",
       "      <td>Secondary cause of death ICD diagnosis code:</td>\n",
       "      <td>4.0</td>\n",
       "    </tr>\n",
       "    <tr>\n",
       "      <th>19</th>\n",
       "      <td>539.0</td>\n",
       "      <td>DeathECode</td>\n",
       "      <td>External cause of death ICD code:</td>\n",
       "      <td>4.0</td>\n",
       "    </tr>\n",
       "    <tr>\n",
       "      <th>291</th>\n",
       "      <td>671.0</td>\n",
       "      <td>FIMLocoModeD</td>\n",
       "      <td>Walking/Wheelchair mode:</td>\n",
       "      <td>1.0</td>\n",
       "    </tr>\n",
       "  </tbody>\n",
       "</table>\n",
       "</div>"
      ],
      "text/plain": [
       "     VariableId          Name                                      Question  \\\n",
       "17        537.0   DeathCause1    Primary cause of death ICD diagnosis code:   \n",
       "18        538.0   DeathCause2  Secondary cause of death ICD diagnosis code:   \n",
       "19        539.0    DeathECode             External cause of death ICD code:   \n",
       "291       671.0  FIMLocoModeD                      Walking/Wheelchair mode:   \n",
       "\n",
       "     MaxRealValueLength  \n",
       "17                  6.0  \n",
       "18                  4.0  \n",
       "19                  4.0  \n",
       "291                 1.0  "
      ]
     },
     "execution_count": 12,
     "metadata": {},
     "output_type": "execute_result"
    }
   ],
   "source": [
    "form_vars_df[form_vars_df['Name'].isin(mixed_type_col_names)]"
   ]
  },
  {
   "cell_type": "code",
   "execution_count": null,
   "id": "f4a788de",
   "metadata": {},
   "outputs": [
    {
     "name": "stdout",
     "output_type": "stream",
     "text": [
      "{44444: 'Person Expired But Cause Unknown', 88888: 'Not Applicable', 99999: 'Unknown if Person Expired'}\n",
      "{44444: 'Person Expired But Cause Unknown', 88888: 'Not Applicable', 99999: 'Unknown if Person Expired'}\n",
      "{44444: 'Person Expired But Cause Unknown', 88888: 'Not Applicable', 99999: 'Unknown if Person Expired'}\n",
      "{66: 'Variable did not exist', 99: 'Unknown: Assessed at more than 72 hours'}\n"
     ]
    }
   ],
   "source": [
    "import re\n",
    "\n",
    "def extract_labels(sps_file_path):\n",
    "    with open(sps_file_path, 'r', encoding='utf-8') as f:\n",
    "        content = f.read()\n",
    "\n",
    "    # ---- Extract VARIABLE LABELS ----\n",
    "    var_label_dict = {}\n",
    "    var_label_blocks = re.findall(r\"VARIABLE LABELS\\s+(.*?)(?=\\.\\s*(?:VALUE LABELS|EXECUTE|$))\", content, re.DOTALL)\n",
    "    for block in var_label_blocks:\n",
    "        matches = re.findall(r\"(\\w+)\\s+'([^']+)'\", block)\n",
    "        for var, label in matches:\n",
    "            var_label_dict[var] = label\n",
    "\n",
    "    # ---- Extract VALUE LABELS ----\n",
    "    value_label_dict = {}\n",
    "    value_blocks = re.findall(r\"VALUE LABELS\\s+(.*?)(?=\\.\\s*(?:VARIABLE LABELS|EXECUTE|$))\", content, re.DOTALL)\n",
    "    for block in value_blocks:\n",
    "        # Supports multi-variable assignments like: VALUE LABELS var1 var2 1 \"Yes\" 2 \"No\".\n",
    "        parts = re.split(r'\\s+(?=\\d+\\s+\\')', block.strip())  # split before value-label pairs\n",
    "        header = parts[0].strip().split()\n",
    "        body = \" \".join(parts[1:])\n",
    "\n",
    "        # Extract value-label pairs\n",
    "        label_pairs = re.findall(r\"(\\d+)\\s+'([^']+)'\", body)\n",
    "        mapping = {int(k): v for k, v in label_pairs}\n",
    "\n",
    "        # Assign the same mapping to each variable listed\n",
    "        for var in header:\n",
    "            value_label_dict[var] = mapping\n",
    "\n",
    "    return var_label_dict, value_label_dict\n",
    "\n",
    "var_labels_filepath =  r'..\\Database\\TBIMSPublic.2024-11-01\\Code\\Form1.sps'\n",
    "\n",
    "\n",
    "var_labels, value_labels = extract_labels(var_labels_filepath)\n",
    "\n",
    "for col in mixed_type_col_names:\n",
    "    print(value_labels[col])"
   ]
  },
  {
   "cell_type": "code",
   "execution_count": null,
   "id": "57aabd9c",
   "metadata": {},
   "outputs": [],
   "source": []
  }
 ],
 "metadata": {
  "kernelspec": {
   "display_name": "Python 3",
   "language": "python",
   "name": "python3"
  },
  "language_info": {
   "codemirror_mode": {
    "name": "ipython",
    "version": 3
   },
   "file_extension": ".py",
   "mimetype": "text/x-python",
   "name": "python",
   "nbconvert_exporter": "python",
   "pygments_lexer": "ipython3",
   "version": "3.13.2"
  }
 },
 "nbformat": 4,
 "nbformat_minor": 5
}
