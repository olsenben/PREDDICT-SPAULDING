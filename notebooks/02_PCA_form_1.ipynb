{
 "cells": [
  {
   "cell_type": "markdown",
   "metadata": {},
   "source": [
    "| Question Type     | Example                                                                           |\n",
    "| ----------------- | --------------------------------------------------------------------------------- |\n",
    "| **Structural**    | What latent factors explain the most variability in my mixed dataset?             |\n",
    "| **Variable**      | Which variables drive the first few principal components?                         |\n",
    "| **Redundancy**    | Can I eliminate variables without losing important information?                   |\n",
    "| **Clustering**    | Are there natural subgroups in my data? What defines them?                        |\n",
    "| **Segmentation**  | How do different groups (e.g., high vs. low income) differ in structure?          |\n",
    "| **Visualization** | Can I reduce 372 variables into 2-3 informative dimensions to visualize patterns? |\n"
   ]
  },
  {
   "cell_type": "markdown",
   "metadata": {},
   "source": [
    "| Ordinal Variable Type                                        | How to Treat | Cast To       | FAMD Behavior        |\n",
    "| ------------------------------------------------------------ | ------------ | ------------- | -------------------- |\n",
    "| Non-numeric or symbolic (e.g., \"Low\", \"Med\", \"High\")         | Categorical  | `category`    | One-hot encoded      |\n",
    "| Numeric but arbitrary labels (e.g., 1 = \"bad\", 2 = \"medium\") | Categorical  | `category`    | One-hot encoded      |\n",
    "| Numeric with consistent intervals (e.g., 1–5 Likert scale)   | Continuous   | `float`/`int` | Included in PCA part |\n"
   ]
  }
 ],
 "metadata": {
  "language_info": {
   "name": "python"
  }
 },
 "nbformat": 4,
 "nbformat_minor": 2
}
